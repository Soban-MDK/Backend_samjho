{
 "cells": [
  {
   "cell_type": "code",
   "execution_count": 7,
   "metadata": {},
   "outputs": [],
   "source": [
    "import pandas as pd"
   ]
  },
  {
   "cell_type": "code",
   "execution_count": 8,
   "metadata": {},
   "outputs": [
    {
     "data": {
      "text/html": [
       "<div>\n",
       "<style scoped>\n",
       "    .dataframe tbody tr th:only-of-type {\n",
       "        vertical-align: middle;\n",
       "    }\n",
       "\n",
       "    .dataframe tbody tr th {\n",
       "        vertical-align: top;\n",
       "    }\n",
       "\n",
       "    .dataframe thead th {\n",
       "        text-align: right;\n",
       "    }\n",
       "</style>\n",
       "<table border=\"1\" class=\"dataframe\">\n",
       "  <thead>\n",
       "    <tr style=\"text-align: right;\">\n",
       "      <th></th>\n",
       "      <th>product_code</th>\n",
       "      <th>brand_cat</th>\n",
       "    </tr>\n",
       "  </thead>\n",
       "  <tbody>\n",
       "    <tr>\n",
       "      <th>0</th>\n",
       "      <td>21474</td>\n",
       "      <td>Test</td>\n",
       "    </tr>\n",
       "    <tr>\n",
       "      <th>1</th>\n",
       "      <td>11769</td>\n",
       "      <td>Test</td>\n",
       "    </tr>\n",
       "    <tr>\n",
       "      <th>2</th>\n",
       "      <td>17007</td>\n",
       "      <td>Kapiva</td>\n",
       "    </tr>\n",
       "    <tr>\n",
       "      <th>3</th>\n",
       "      <td>22188</td>\n",
       "      <td>Kapiva</td>\n",
       "    </tr>\n",
       "    <tr>\n",
       "      <th>4</th>\n",
       "      <td>23676</td>\n",
       "      <td>Kapiva</td>\n",
       "    </tr>\n",
       "  </tbody>\n",
       "</table>\n",
       "</div>"
      ],
      "text/plain": [
       "   product_code brand_cat\n",
       "0         21474      Test\n",
       "1         11769      Test\n",
       "2         17007    Kapiva\n",
       "3         22188    Kapiva\n",
       "4         23676    Kapiva"
      ]
     },
     "execution_count": 8,
     "metadata": {},
     "output_type": "execute_result"
    }
   ],
   "source": [
    "df_brands = pd.read_csv('brands.csv')\n",
    "df_bt = pd.read_csv('./brand_tieup_2.csv', index_col=0)\n",
    "\n",
    "df_brands.head()"
   ]
  },
  {
   "cell_type": "code",
   "execution_count": 9,
   "metadata": {},
   "outputs": [
    {
     "data": {
      "text/html": [
       "<div>\n",
       "<style scoped>\n",
       "    .dataframe tbody tr th:only-of-type {\n",
       "        vertical-align: middle;\n",
       "    }\n",
       "\n",
       "    .dataframe tbody tr th {\n",
       "        vertical-align: top;\n",
       "    }\n",
       "\n",
       "    .dataframe thead th {\n",
       "        text-align: right;\n",
       "    }\n",
       "</style>\n",
       "<table border=\"1\" class=\"dataframe\">\n",
       "  <thead>\n",
       "    <tr style=\"text-align: right;\">\n",
       "      <th></th>\n",
       "      <th>Month</th>\n",
       "      <th>brand_cat</th>\n",
       "      <th>brand_sale_range</th>\n",
       "      <th>%applied</th>\n",
       "    </tr>\n",
       "  </thead>\n",
       "  <tbody>\n",
       "    <tr>\n",
       "      <th>0</th>\n",
       "      <td>Feb-25</td>\n",
       "      <td>Kapiva</td>\n",
       "      <td>0-100</td>\n",
       "      <td>2</td>\n",
       "    </tr>\n",
       "    <tr>\n",
       "      <th>1</th>\n",
       "      <td>Feb-25</td>\n",
       "      <td>Kapiva</td>\n",
       "      <td>100-200</td>\n",
       "      <td>4</td>\n",
       "    </tr>\n",
       "    <tr>\n",
       "      <th>2</th>\n",
       "      <td>Feb-25</td>\n",
       "      <td>Kapiva</td>\n",
       "      <td>200-300</td>\n",
       "      <td>6</td>\n",
       "    </tr>\n",
       "    <tr>\n",
       "      <th>3</th>\n",
       "      <td>Feb-25</td>\n",
       "      <td>Kapiva</td>\n",
       "      <td>300-400</td>\n",
       "      <td>8</td>\n",
       "    </tr>\n",
       "    <tr>\n",
       "      <th>4</th>\n",
       "      <td>Feb-25</td>\n",
       "      <td>Kapiva</td>\n",
       "      <td>400-500</td>\n",
       "      <td>10</td>\n",
       "    </tr>\n",
       "  </tbody>\n",
       "</table>\n",
       "</div>"
      ],
      "text/plain": [
       "    Month brand_cat brand_sale_range  %applied\n",
       "0  Feb-25    Kapiva            0-100         2\n",
       "1  Feb-25    Kapiva          100-200         4\n",
       "2  Feb-25    Kapiva          200-300         6\n",
       "3  Feb-25    Kapiva          300-400         8\n",
       "4  Feb-25    Kapiva          400-500        10"
      ]
     },
     "execution_count": 9,
     "metadata": {},
     "output_type": "execute_result"
    }
   ],
   "source": [
    "df_bt = df_bt.reset_index()\n",
    "df_bt.head()"
   ]
  },
  {
   "cell_type": "code",
   "execution_count": 10,
   "metadata": {},
   "outputs": [
    {
     "name": "stdout",
     "output_type": "stream",
     "text": [
      "     product_id brand_cat   Month brand_sale_range  %applied\n",
      "0         21474      Test  Jul-24            0-100         2\n",
      "1         21474      Test  Jul-24          100-200         4\n",
      "2         21474      Test  Jul-24          200-300         6\n",
      "3         21474      Test  Jul-24          300-400         8\n",
      "4         21474      Test  Jul-24          400-500        10\n",
      "..          ...       ...     ...              ...       ...\n",
      "109       11769      Test  Jul-24          300-400         8\n",
      "110       11769      Test  Jul-24          400-500        10\n",
      "111       11769      Test  Jul-24         500-1000        12\n",
      "112       11769      Test  May-24         100-2000         6\n",
      "113       11769      Test  May-24     2000-2000000        12\n",
      "\n",
      "[114 rows x 5 columns]\n"
     ]
    }
   ],
   "source": [
    "merged_df = df_brands.merge(df_bt, on=\"brand_cat\", how=\"left\")\n",
    "\n",
    "# Rename product_code to product_id\n",
    "merged_df.rename(columns={\"product_code\": \"product_id\"}, inplace=True)\n",
    "\n",
    "# Reorder columns as per requirement\n",
    "final_df = merged_df[[\"product_id\", \"brand_cat\", \"Month\", \"brand_sale_range\", \"%applied\"]]\n",
    "\n",
    "# Save the result to a CSV file\n",
    "final_df.to_csv(\"merged_output.csv\", index=False)\n",
    "\n",
    "print(final_df)"
   ]
  },
  {
   "cell_type": "code",
   "execution_count": 6,
   "metadata": {},
   "outputs": [
    {
     "data": {
      "text/html": [
       "<div>\n",
       "<style scoped>\n",
       "    .dataframe tbody tr th:only-of-type {\n",
       "        vertical-align: middle;\n",
       "    }\n",
       "\n",
       "    .dataframe tbody tr th {\n",
       "        vertical-align: top;\n",
       "    }\n",
       "\n",
       "    .dataframe thead th {\n",
       "        text-align: right;\n",
       "    }\n",
       "</style>\n",
       "<table border=\"1\" class=\"dataframe\">\n",
       "  <thead>\n",
       "    <tr style=\"text-align: right;\">\n",
       "      <th></th>\n",
       "      <th>product_id</th>\n",
       "      <th>brand_cat</th>\n",
       "      <th>Month</th>\n",
       "      <th>brand_sale_range</th>\n",
       "      <th>%applied</th>\n",
       "    </tr>\n",
       "  </thead>\n",
       "  <tbody>\n",
       "    <tr>\n",
       "      <th>0</th>\n",
       "      <td>21474</td>\n",
       "      <td>Test</td>\n",
       "      <td>Jul-24</td>\n",
       "      <td>0-100</td>\n",
       "      <td>2</td>\n",
       "    </tr>\n",
       "    <tr>\n",
       "      <th>1</th>\n",
       "      <td>21474</td>\n",
       "      <td>Test</td>\n",
       "      <td>Jul-24</td>\n",
       "      <td>100-200</td>\n",
       "      <td>4</td>\n",
       "    </tr>\n",
       "    <tr>\n",
       "      <th>2</th>\n",
       "      <td>21474</td>\n",
       "      <td>Test</td>\n",
       "      <td>Jul-24</td>\n",
       "      <td>200-300</td>\n",
       "      <td>6</td>\n",
       "    </tr>\n",
       "    <tr>\n",
       "      <th>3</th>\n",
       "      <td>21474</td>\n",
       "      <td>Test</td>\n",
       "      <td>Jul-24</td>\n",
       "      <td>300-400</td>\n",
       "      <td>8</td>\n",
       "    </tr>\n",
       "    <tr>\n",
       "      <th>4</th>\n",
       "      <td>21474</td>\n",
       "      <td>Test</td>\n",
       "      <td>Jul-24</td>\n",
       "      <td>400-500</td>\n",
       "      <td>10</td>\n",
       "    </tr>\n",
       "  </tbody>\n",
       "</table>\n",
       "</div>"
      ],
      "text/plain": [
       "   product_id brand_cat   Month brand_sale_range  %applied\n",
       "0       21474      Test  Jul-24            0-100         2\n",
       "1       21474      Test  Jul-24          100-200         4\n",
       "2       21474      Test  Jul-24          200-300         6\n",
       "3       21474      Test  Jul-24          300-400         8\n",
       "4       21474      Test  Jul-24          400-500        10"
      ]
     },
     "execution_count": 6,
     "metadata": {},
     "output_type": "execute_result"
    }
   ],
   "source": [
    "final_df.head()"
   ]
  },
  {
   "cell_type": "code",
   "execution_count": null,
   "metadata": {},
   "outputs": [],
   "source": []
  }
 ],
 "metadata": {
  "kernelspec": {
   "display_name": "virtual",
   "language": "python",
   "name": "python3"
  },
  "language_info": {
   "codemirror_mode": {
    "name": "ipython",
    "version": 3
   },
   "file_extension": ".py",
   "mimetype": "text/x-python",
   "name": "python",
   "nbconvert_exporter": "python",
   "pygments_lexer": "ipython3",
   "version": "3.10.6"
  }
 },
 "nbformat": 4,
 "nbformat_minor": 2
}
